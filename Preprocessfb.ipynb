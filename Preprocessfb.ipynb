{
  "nbformat": 4,
  "nbformat_minor": 0,
  "metadata": {
    "colab": {
      "provenance": []
    },
    "kernelspec": {
      "name": "python3",
      "display_name": "Python 3"
    },
    "language_info": {
      "name": "python"
    }
  },
  "cells": [
    {
      "cell_type": "code",
      "execution_count": null,
      "metadata": {
        "id": "3lCw5H55b2Qc"
      },
      "outputs": [],
      "source": [
        "import pandas as pd\n",
        "from google.colab import drive"
      ]
    },
    {
      "cell_type": "code",
      "source": [
        "drive.mount('/content/drive')"
      ],
      "metadata": {
        "colab": {
          "base_uri": "https://localhost:8080/"
        },
        "id": "elnMPpJ6cTk5",
        "outputId": "0b3ef099-929e-4f91-89b7-6ca914bf5e51"
      },
      "execution_count": null,
      "outputs": [
        {
          "output_type": "stream",
          "name": "stdout",
          "text": [
            "Mounted at /content/drive\n"
          ]
        }
      ]
    },
    {
      "cell_type": "code",
      "source": [
        "content_path = \"/content/drive/MyDrive/Hi/\""
      ],
      "metadata": {
        "id": "N1K7TdsbeWvp"
      },
      "execution_count": null,
      "outputs": []
    },
    {
      "cell_type": "code",
      "source": [
        "df = pd.read_csv(\"/content/drive/MyDrive/Hi/posts.csv\")\n",
        "df.info()"
      ],
      "metadata": {
        "id": "uskwlX57AFjT",
        "colab": {
          "base_uri": "https://localhost:8080/"
        },
        "outputId": "027b9fa1-ddbd-43ce-bb5d-faf0931f8783"
      },
      "execution_count": null,
      "outputs": [
        {
          "output_type": "stream",
          "name": "stdout",
          "text": [
            "<class 'pandas.core.frame.DataFrame'>\n",
            "RangeIndex: 78 entries, 0 to 77\n",
            "Data columns (total 1 columns):\n",
            " #   Column  Non-Null Count  Dtype \n",
            "---  ------  --------------  ----- \n",
            " 0   text    78 non-null     object\n",
            "dtypes: object(1)\n",
            "memory usage: 752.0+ bytes\n"
          ]
        }
      ]
    },
    {
      "cell_type": "code",
      "source": [
        "df1 = pd.read_csv(\"/content/drive/MyDrive/Hi/comments.csv\")\n",
        "df1.info()"
      ],
      "metadata": {
        "id": "t28j8Qt_S_4T",
        "colab": {
          "base_uri": "https://localhost:8080/"
        },
        "outputId": "8e813ca1-0c92-4236-b52b-44eda5267431"
      },
      "execution_count": null,
      "outputs": [
        {
          "output_type": "stream",
          "name": "stdout",
          "text": [
            "<class 'pandas.core.frame.DataFrame'>\n",
            "RangeIndex: 4182 entries, 0 to 4181\n",
            "Data columns (total 1 columns):\n",
            " #   Column  Non-Null Count  Dtype \n",
            "---  ------  --------------  ----- \n",
            " 0   0       2867 non-null   object\n",
            "dtypes: object(1)\n",
            "memory usage: 32.8+ KB\n"
          ]
        }
      ]
    },
    {
      "cell_type": "code",
      "source": [
        "text = df['text'].iloc[5]\n",
        "type(text)"
      ],
      "metadata": {
        "colab": {
          "base_uri": "https://localhost:8080/"
        },
        "id": "31nXB-OhZxQM",
        "outputId": "723fe9bb-ad09-463b-8e62-4da494f80d20"
      },
      "execution_count": null,
      "outputs": [
        {
          "output_type": "execute_result",
          "data": {
            "text/plain": [
              "str"
            ]
          },
          "metadata": {},
          "execution_count": 46
        }
      ]
    },
    {
      "cell_type": "code",
      "source": [
        "import nltk\n",
        "nltk.download('punkt')"
      ],
      "metadata": {
        "colab": {
          "base_uri": "https://localhost:8080/"
        },
        "id": "XxDht6TCbjl7",
        "outputId": "16b926e1-e85d-40e8-ff61-d69440cf9bd8"
      },
      "execution_count": null,
      "outputs": [
        {
          "output_type": "stream",
          "name": "stderr",
          "text": [
            "[nltk_data] Downloading package punkt to /root/nltk_data...\n",
            "[nltk_data]   Package punkt is already up-to-date!\n"
          ]
        },
        {
          "output_type": "execute_result",
          "data": {
            "text/plain": [
              "True"
            ]
          },
          "metadata": {},
          "execution_count": 6
        }
      ]
    },
    {
      "cell_type": "code",
      "source": [
        "from nltk.tokenize import sent_tokenize\n",
        "#print(sent_tokenize(df.iloc[5]))\n"
      ],
      "metadata": {
        "id": "6WM7UIZlaJt-"
      },
      "execution_count": null,
      "outputs": []
    },
    {
      "cell_type": "code",
      "source": [
        "# Cleaning text\n",
        "import re\n",
        "\n",
        "def remove_emojis(text):\n",
        "  emojis_pattern = re.compile(r'[^\\w\\s\\.\\n\\t:?!]')\n",
        "  return emojis_pattern.sub('', str(text))\n",
        "\n",
        "\n",
        "\n",
        "\n",
        "\n",
        "\n",
        "\n",
        "\n",
        "paragraph = '''\n",
        "\n",
        "Chào bạn👋 Tôi là Bard, một mô hình ngôn ngữ lớn từ Google AI 🧠 Tôi có thể tạo văn bản, dịch ngôn ngữ, viết các loại nội dung sáng tạo khác nhau và trả lời câu hỏi của bạn một cách đầy đủ thông tin Tôi rất vui khi được gặp bạn 😊 Tôi hy vọng chúng ta có thể trò chuyện vui vẻ 😁 Tôi hy vọng bạn thích đoạn văn này.\n",
        "'''\n",
        "\n",
        "print(remove_emojis(paragraph))\n"
      ],
      "metadata": {
        "colab": {
          "base_uri": "https://localhost:8080/"
        },
        "outputId": "28e5e804-cd6f-4b73-e9b5-9b3886942a66",
        "id": "c7TZavCG8DNY"
      },
      "execution_count": null,
      "outputs": [
        {
          "output_type": "stream",
          "name": "stdout",
          "text": [
            "\n",
            "\n",
            "Chào bạn Tôi là Bard một mô hình ngôn ngữ lớn từ Google AI  Tôi có thể tạo văn bản dịch ngôn ngữ viết các loại nội dung sáng tạo khác nhau và trả lời câu hỏi của bạn một cách đầy đủ thông tin Tôi rất vui khi được gặp bạn  Tôi hy vọng chúng ta có thể trò chuyện vui vẻ  Tôi hy vọng bạn thích đoạn văn này.\n",
            "\n"
          ]
        }
      ]
    },
    {
      "cell_type": "code",
      "source": [
        "import re\n",
        "\n",
        "def is_sentence(text):\n",
        "  return len(re.findall(r'[.!?]', text)) == 1 and len(text.split()) == 1\n",
        "\n",
        "def is_paragraph(text):\n",
        "  return len(re.findall(r'[.!?]', text)) >= 1 and len(text.split()) > 1\n",
        "\n",
        "\n",
        "#print(is_sentence(\"Is this a joke\"))\n",
        "print(is_paragraph(\"Bay ksjhd . 15 feet\"))\n"
      ],
      "metadata": {
        "colab": {
          "base_uri": "https://localhost:8080/"
        },
        "id": "MKcYMZClAqIb",
        "outputId": "1d782029-cdf3-42f4-d1c1-d2cf34f16ef9"
      },
      "execution_count": null,
      "outputs": [
        {
          "output_type": "stream",
          "name": "stdout",
          "text": [
            "True\n"
          ]
        }
      ]
    },
    {
      "cell_type": "code",
      "source": [
        "type(df1['Text'][3])"
      ],
      "metadata": {
        "colab": {
          "base_uri": "https://localhost:8080/"
        },
        "id": "_-mCRFBv88Ov",
        "outputId": "99310a96-ece7-4f9c-fdd2-709a8d808cfb"
      },
      "execution_count": null,
      "outputs": [
        {
          "output_type": "execute_result",
          "data": {
            "text/plain": [
              "str"
            ]
          },
          "metadata": {},
          "execution_count": 75
        }
      ]
    },
    {
      "cell_type": "code",
      "source": [
        "class Standardize:\n",
        "    def __init__(self):\n",
        "        pass\n",
        "    def process_posts(self,dataf1):\n",
        "        sentences = []\n",
        "        for i in range(len(dataf1['text'])):\n",
        "            text = remove_emojis(dataf1['text'].iloc[i])\n",
        "            split = sent_tokenize(text)\n",
        "            for ind in range(len(split)):\n",
        "                sentences.append(split[ind])\n",
        "        return sentences\n",
        "    def process_comments(self,dataf2):\n",
        "        comments = []\n",
        "        for i in range(len(dataf2['Text'])):\n",
        "            text = remove_emojis(dataf2['Text'].iloc[i])\n",
        "            if is_sentence(text):\n",
        "               comments.append(text)\n",
        "            else:\n",
        "                split = sent_tokenize(text)\n",
        "                for ind in range(len(split)):\n",
        "                    comments.append(split[ind])\n",
        "        return comments\n",
        "\n",
        "\n",
        "\n",
        "\n",
        "\n",
        "\n",
        "\n",
        "\n",
        "\n",
        "\n",
        "\n"
      ],
      "metadata": {
        "id": "MFsHhk82pXca"
      },
      "execution_count": null,
      "outputs": []
    },
    {
      "cell_type": "code",
      "source": [
        "std = Standardize()\n",
        "final = std.process_posts(df)\n",
        "final1 = std.process_comments(df1)"
      ],
      "metadata": {
        "id": "tzLQ5CS40YxJ"
      },
      "execution_count": null,
      "outputs": []
    },
    {
      "cell_type": "code",
      "source": [
        "len(final)"
      ],
      "metadata": {
        "colab": {
          "base_uri": "https://localhost:8080/"
        },
        "id": "RdKRBs6I2Bp1",
        "outputId": "6f6398ec-3159-4bd5-a2e7-1c04d6bde5fd"
      },
      "execution_count": null,
      "outputs": [
        {
          "output_type": "execute_result",
          "data": {
            "text/plain": [
              "896"
            ]
          },
          "metadata": {},
          "execution_count": 94
        }
      ]
    },
    {
      "cell_type": "code",
      "source": [
        "len(final1)"
      ],
      "metadata": {
        "colab": {
          "base_uri": "https://localhost:8080/"
        },
        "id": "txHpHu2H2dPZ",
        "outputId": "618dabaf-4494-4d83-c63e-27972e6b4cee"
      },
      "execution_count": null,
      "outputs": [
        {
          "output_type": "execute_result",
          "data": {
            "text/plain": [
              "5956"
            ]
          },
          "metadata": {},
          "execution_count": 95
        }
      ]
    },
    {
      "cell_type": "code",
      "source": [
        "sent1 = pd.DataFrame(final)\n",
        "sent1.info()"
      ],
      "metadata": {
        "colab": {
          "base_uri": "https://localhost:8080/"
        },
        "id": "rlLVid4625JI",
        "outputId": "d16ab6bc-df6d-4af1-927d-bb101b703f8e"
      },
      "execution_count": null,
      "outputs": [
        {
          "output_type": "stream",
          "name": "stdout",
          "text": [
            "<class 'pandas.core.frame.DataFrame'>\n",
            "RangeIndex: 896 entries, 0 to 895\n",
            "Data columns (total 1 columns):\n",
            " #   Column  Non-Null Count  Dtype \n",
            "---  ------  --------------  ----- \n",
            " 0   0       896 non-null    object\n",
            "dtypes: object(1)\n",
            "memory usage: 7.1+ KB\n"
          ]
        }
      ]
    },
    {
      "cell_type": "code",
      "source": [
        "sent2 = pd.DataFrame(final1)\n",
        "sent2.info()"
      ],
      "metadata": {
        "colab": {
          "base_uri": "https://localhost:8080/"
        },
        "id": "qSFCzYMw3RCV",
        "outputId": "2eaa211f-6a43-4ff0-f4ad-259f3faf78c6"
      },
      "execution_count": null,
      "outputs": [
        {
          "output_type": "stream",
          "name": "stdout",
          "text": [
            "<class 'pandas.core.frame.DataFrame'>\n",
            "RangeIndex: 5956 entries, 0 to 5955\n",
            "Data columns (total 1 columns):\n",
            " #   Column  Non-Null Count  Dtype \n",
            "---  ------  --------------  ----- \n",
            " 0   0       5956 non-null   object\n",
            "dtypes: object(1)\n",
            "memory usage: 46.7+ KB\n"
          ]
        }
      ]
    },
    {
      "cell_type": "code",
      "source": [
        "sentences = pd.concat([sent1,sent2], axis = 0)\n",
        "sentences.info()"
      ],
      "metadata": {
        "colab": {
          "base_uri": "https://localhost:8080/"
        },
        "id": "8xCVL1py3VvJ",
        "outputId": "c07d4161-143d-465b-cdd5-89f3213f0473"
      },
      "execution_count": null,
      "outputs": [
        {
          "output_type": "stream",
          "name": "stdout",
          "text": [
            "<class 'pandas.core.frame.DataFrame'>\n",
            "Int64Index: 6852 entries, 0 to 5955\n",
            "Data columns (total 1 columns):\n",
            " #   Column  Non-Null Count  Dtype \n",
            "---  ------  --------------  ----- \n",
            " 0   0       6852 non-null   object\n",
            "dtypes: object(1)\n",
            "memory usage: 107.1+ KB\n"
          ]
        }
      ]
    },
    {
      "cell_type": "code",
      "source": [
        "sentences.columns = ['Text']\n",
        "sentences.iloc[20]"
      ],
      "metadata": {
        "colab": {
          "base_uri": "https://localhost:8080/"
        },
        "id": "H_6JAlZ03r1v",
        "outputId": "4f373b5e-4cf2-4acb-e5c4-f29b1cb67a72"
      },
      "execution_count": null,
      "outputs": [
        {
          "output_type": "execute_result",
          "data": {
            "text/plain": [
              "Text    Trước tình thế này Nhật đề nghị giúp đỡ chính ...\n",
              "Name: 20, dtype: object"
            ]
          },
          "metadata": {},
          "execution_count": 103
        }
      ]
    },
    {
      "cell_type": "code",
      "source": [
        "\n",
        "\n",
        "df1.info()"
      ],
      "metadata": {
        "colab": {
          "base_uri": "https://localhost:8080/"
        },
        "id": "2kcCK5BDzWk6",
        "outputId": "c665e70a-b115-4dd1-eeb8-eb0ef12b082a"
      },
      "execution_count": null,
      "outputs": [
        {
          "output_type": "stream",
          "name": "stdout",
          "text": [
            "<class 'pandas.core.frame.DataFrame'>\n",
            "Int64Index: 5537 entries, 0 to 5558\n",
            "Data columns (total 1 columns):\n",
            " #   Column  Non-Null Count  Dtype \n",
            "---  ------  --------------  ----- \n",
            " 0   Text    5537 non-null   object\n",
            "dtypes: object(1)\n",
            "memory usage: 86.5+ KB\n"
          ]
        }
      ]
    },
    {
      "cell_type": "code",
      "source": [
        "df1.dropna(inplace = True)"
      ],
      "metadata": {
        "id": "aIbVlD6CeZJ3"
      },
      "execution_count": null,
      "outputs": []
    },
    {
      "cell_type": "code",
      "source": [
        "# Saving dfs\n",
        "path = content_path + \".csv\"\n",
        "df1.to_csv(content_path + \".csv\", index = False)\n",
        "print(path)"
      ],
      "metadata": {
        "id": "0XGiYwzM2e4u",
        "colab": {
          "base_uri": "https://localhost:8080/"
        },
        "outputId": "84c03a37-dd20-4209-899d-54e6b04f4029"
      },
      "execution_count": null,
      "outputs": [
        {
          "output_type": "stream",
          "name": "stdout",
          "text": [
            "/content/drive/MyDrive/Hi/.csv\n"
          ]
        }
      ]
    },
    {
      "cell_type": "code",
      "source": [],
      "metadata": {
        "id": "OSmThXJT5fOp"
      },
      "execution_count": null,
      "outputs": []
    }
  ]
}