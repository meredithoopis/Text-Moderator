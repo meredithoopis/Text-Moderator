{
 "cells": [
  {
   "cell_type": "code",
   "execution_count": null,
   "metadata": {},
   "outputs": [],
   "source": [
    "import json\n",
    "import os.path as osp\n",
    "import platform\n",
    "import time\n",
    "import re\n",
    "import csv\n",
    "import random\n",
    "import traceback\n",
    "import logging\n",
    "import pandas as pd\n",
    "\n",
    "from bs4 import BeautifulSoup\n",
    "from selenium import webdriver\n",
    "from selenium.webdriver.chrome.options import Options\n",
    "from selenium.webdriver.common.by import By\n",
    "from selenium.webdriver.common.keys import Keys\n",
    "from selenium.webdriver.chrome.service import Service\n",
    "from selenium.webdriver.support import expected_conditions as EC\n",
    "from selenium.webdriver.support.ui import WebDriverWait\n",
    "from webdriver_manager.chrome import ChromeDriverManager\n",
    "from selenium.webdriver.common.proxy import Proxy, ProxyType\n",
    "from selenium.webdriver.common.action_chains import ActionChains"
   ]
  },
  {
   "cell_type": "code",
   "execution_count": 23,
   "metadata": {
    "ExecuteTime": {
     "end_time": "2023-09-05T14:31:54.085870Z",
     "start_time": "2023-09-05T14:31:54.066802Z"
    }
   },
   "outputs": [],
   "source": [
    "class Collect_Xamvn_Info:\n",
    "    def __init__(self, no_gui=False, proxy=None):\n",
    "        \n",
    "        self.result = pd.DataFrame({'url': [], 'name': [], 'reply_num': [], 'view_num': []})\n",
    "        executable = ''\n",
    "        \n",
    "        #LƯU Ý\n",
    "        # tự chỉnh đường dẫn theo máy \n",
    "        if platform.system() == 'Windows':\n",
    "            print('Detected OS : Windows')\n",
    "            executable = 'chromedriver.exe'\n",
    "        elif platform.system() == 'Linux':\n",
    "            print('Detected OS : Linux')\n",
    "            executable = './chromedriver/chromedriver_linux'\n",
    "        elif platform.system() == 'Darwin':\n",
    "            print('Detected OS : Mac')\n",
    "            executable = './chromedriver/chromedriver_mac'\n",
    "        else:\n",
    "            raise OSError('Unknown OS Type')\n",
    "\n",
    "        if not osp.exists(executable):\n",
    "            raise FileNotFoundError(\n",
    "                'Chromedriver file should be placed at {}'.format(executable))\n",
    "\n",
    "        chrome_options = Options()\n",
    "        chrome_options.add_argument('--no-sandbox')\n",
    "        chrome_options.add_argument('--disable-dev-shm-usage')\n",
    "        if no_gui:\n",
    "            chrome_options.add_argument('--headless')\n",
    "        if proxy:\n",
    "            chrome_options.add_argument(\"--proxy-server={}\".format(proxy))\n",
    "            \n",
    "        self.browser = webdriver.Chrome(executable_path=executable, chrome_options=chrome_options)    \n",
    "\n",
    "        #auto download driver nhưng mà web chính thức chưa có chrome driver mới nhất version 116 nên phải làm bằng cơm :D\n",
    "        \n",
    "#         self.browser = webdriver.Chrome(\n",
    "#             ChromeDriverManager().install(), chrome_options=chrome_options)\n",
    "\n",
    "#         browser_version = 'Failed to detect version'\n",
    "#         chromedriver_version = 'Failed to detect version'\n",
    "#         major_version_different = False\n",
    "\n",
    "#         if 'browserVersion' in self.browser.capabilities:\n",
    "#             browser_version = str(self.browser.capabilities['browserVersion'])\n",
    "\n",
    "#         if 'chrome' in self.browser.capabilities:\n",
    "#             if 'chromedriverVersion' in self.browser.capabilities['chrome']:\n",
    "#                 chromedriver_version = str(\n",
    "#                     self.browser.capabilities['chrome']['chromedriverVersion']).split(' ')[0]\n",
    "\n",
    "#         if browser_version.split('.')[0] != chromedriver_version.split('.')[0]:\n",
    "#             major_version_different = True\n",
    "\n",
    "#         print('_________________________________')\n",
    "#         print('Current web-browser version:\\t{}'.format(browser_version))\n",
    "#         print('Current chrome-driver version:\\t{}'.format(chromedriver_version))\n",
    "#         if major_version_different:\n",
    "#             print('warning: Version different')\n",
    "#             print(\n",
    "#                 'Download correct version at \"http://chromedriver.chromium.org/downloads\" and place in \"./chromedriver\"')\n",
    "#         print('_________________________________')\n",
    "\n",
    "    def thread_link_crawl(self, url, num_pages):\n",
    "        \"\"\"Crawl infos of posts with a specific number of pages in a url thread\n",
    "        \n",
    "        {url} (Thread): included: \n",
    "        https://xamvn.vc/box/massage-bon-mua.165/\n",
    "        https://xamvn.vc/box/an-choi-huong-thu.174/\n",
    "        https://xamvn.vc/box/quan-con-so-say.146/\n",
    "        https://xamvn.vc/whats-new/posts/13844728/\n",
    "        \n",
    "        {num_pages}: The number of pages you want to crawl in each site \n",
    "        Due to cloudflare block, it is changed to page number\n",
    "        \"\"\"\n",
    "        \n",
    "        #for page_num in range(1, num_pages + 1):\n",
    "        #bị cloudflare rùi nên cứ phải tắt đi bật lại driver liên tục :v\n",
    "        self.browser.get(url + f\"page-{num_pages}\")\n",
    "        #chỉnh lại số trừ theo tốc độ mạng hiện tại lúc chạy\n",
    "        random_time1 = 9.5 - random.randint(4, 7)\n",
    "        time.sleep(random_time1)\n",
    "\n",
    "        #scroll down \n",
    "        total_height = int(self.browser.execute_script(\"return document.body.scrollHeight\"))\n",
    "        for i in range(1, total_height, 600):\n",
    "            self.browser.execute_script(\"window.scrollTo(0, {});\".format(i))\n",
    "            time.sleep(0.3)\n",
    "\n",
    "        full_page_html = self.browser.page_source\n",
    "\n",
    "        try:\n",
    "            result = self.extract_info(full_page_html)\n",
    "            self.result = pd.concat([self.result, result], ignore_index=True)\n",
    "        except Exception as e:\n",
    "            print(\"An exception occurred: check internet if needed\") \n",
    "            logging.error(traceback.format_exc())\n",
    "\n",
    "    def extract_info(self, html_doc): \n",
    "        \"\"\"Extract \n",
    "        [post_name; \n",
    "        url;\n",
    "        reply_number;\n",
    "        view_number] of each post in one html page\n",
    "        \n",
    "        {html_doc}: the full page source of the targeted site \n",
    "        \"\"\"\n",
    "        \n",
    "        # parse html doc\n",
    "        soup = BeautifulSoup(html_doc, \"html.parser\")\n",
    "        \n",
    "        names = []\n",
    "        urls = []\n",
    "        reply_num_list = []\n",
    "        view_num_list = []\n",
    "        \n",
    "        all_posts_name_and_url = soup.find_all('div', class_ = 'structItem-cell structItem-cell--main')\n",
    "        for post in all_posts_name_and_url:\n",
    "            a_href = post.find_all('a', href=True)\n",
    "\n",
    "            for i in a_href:\n",
    "                if re.search(\"data-preview-url\", str(i)):\n",
    "                    url_and_name = i\n",
    "\n",
    "            url = url_and_name[\"href\"]\n",
    "            url = \"xamvn.vc\" + url\n",
    "            pattern = r'<a[^>]*>(.*?)</a>'\n",
    "            match = re.search(pattern, str(url_and_name))\n",
    "            name = match.group(1)[:-1]\n",
    "            names.append(name)\n",
    "            urls.append(url)\n",
    "\n",
    "        all_posts_reply_num = soup.find_all(\"dl\", class_ = \"pairs pairs--justified\")\n",
    "        for post in all_posts_reply_num:\n",
    "            reply_num = re.findall(\"\\d+\", str(post))[0]\n",
    "            reply_num_list.append(int(reply_num))\n",
    "\n",
    "        all_posts_view_num = soup.find_all(\"dl\", class_ = \"pairs pairs--justified structItem-minor\")\n",
    "        for post in all_posts_view_num:\n",
    "            view_num = re.findall(\"\\d+\\w*\", str(post))[0]\n",
    "            view_num = view_num.replace(\"K\", \"000\")\n",
    "            view_num_list.append(int(view_num))\n",
    "        \n",
    "        result = pd.DataFrame({'url': urls, 'name': names, 'reply_num': reply_num_list, 'view_num': view_num_list})\n",
    "        \n",
    "        return result"
   ]
  },
  {
   "cell_type": "markdown",
   "metadata": {},
   "source": [
    "#  Bị cloudflare chặn nếu get url liên tục nên phải tắt đi bật lại driver liên tục :v"
   ]
  },
  {
   "cell_type": "code",
   "execution_count": 25,
   "metadata": {
    "ExecuteTime": {
     "end_time": "2023-09-05T14:34:50.426559Z",
     "start_time": "2023-09-05T14:32:10.815668Z"
    }
   },
   "outputs": [
    {
     "name": "stdout",
     "output_type": "stream",
     "text": [
      "Detected OS : Windows\n"
     ]
    },
    {
     "name": "stderr",
     "output_type": "stream",
     "text": [
      "C:\\Users\\KIEN\\AppData\\Local\\Temp\\ipykernel_21608\\3906248590.py:56: DeprecationWarning: executable_path has been deprecated, please pass in a Service object\n",
      "  self.browser = webdriver.Chrome(executable_path=executable, chrome_options=chrome_options)\n",
      "C:\\Users\\KIEN\\AppData\\Local\\Temp\\ipykernel_21608\\3906248590.py:56: DeprecationWarning: use options instead of chrome_options\n",
      "  self.browser = webdriver.Chrome(executable_path=executable, chrome_options=chrome_options)\n"
     ]
    },
    {
     "name": "stdout",
     "output_type": "stream",
     "text": [
      "Detected OS : Windows\n",
      "Detected OS : Windows\n",
      "Detected OS : Windows\n",
      "Detected OS : Windows\n"
     ]
    }
   ],
   "source": [
    "df = pd.DataFrame({'url': [], 'name': [], 'reply_num': [], 'view_num': []})\n",
    "no_gui = False\n",
    "\n",
    "for page_number in range(1, 6):\n",
    "    collect = Collect_Xamvn_Info(no_gui=no_gui)\n",
    "    collect.thread_link_crawl(\"https://xamvn.vc/box/massage-bon-mua.165/\", page_number)\n",
    "    temp_df = collect.result\n",
    "    collect.browser.quit()\n",
    "    df = pd.concat([df, temp_df], ignore_index=True)"
   ]
  },
  {
   "cell_type": "code",
   "execution_count": 26,
   "metadata": {
    "ExecuteTime": {
     "end_time": "2023-09-05T14:36:53.832584Z",
     "start_time": "2023-09-05T14:34:50.453559Z"
    }
   },
   "outputs": [
    {
     "name": "stdout",
     "output_type": "stream",
     "text": [
      "Detected OS : Windows\n"
     ]
    },
    {
     "name": "stderr",
     "output_type": "stream",
     "text": [
      "C:\\Users\\KIEN\\AppData\\Local\\Temp\\ipykernel_21608\\3906248590.py:56: DeprecationWarning: executable_path has been deprecated, please pass in a Service object\n",
      "  self.browser = webdriver.Chrome(executable_path=executable, chrome_options=chrome_options)\n",
      "C:\\Users\\KIEN\\AppData\\Local\\Temp\\ipykernel_21608\\3906248590.py:56: DeprecationWarning: use options instead of chrome_options\n",
      "  self.browser = webdriver.Chrome(executable_path=executable, chrome_options=chrome_options)\n"
     ]
    },
    {
     "name": "stdout",
     "output_type": "stream",
     "text": [
      "Detected OS : Windows\n",
      "Detected OS : Windows\n",
      "Detected OS : Windows\n",
      "Detected OS : Windows\n"
     ]
    }
   ],
   "source": [
    "for page_number in range(1, 6):\n",
    "    collect = Collect_Xamvn_Info(no_gui=no_gui)\n",
    "    collect.thread_link_crawl(\"https://xamvn.vc/box/an-choi-huong-thu.174/\", page_number)\n",
    "    temp_df = collect.result\n",
    "    collect.browser.quit()\n",
    "    df = pd.concat([df, temp_df], ignore_index=True)"
   ]
  },
  {
   "cell_type": "code",
   "execution_count": 27,
   "metadata": {
    "ExecuteTime": {
     "end_time": "2023-09-05T14:38:03.665932Z",
     "start_time": "2023-09-05T14:36:53.857584Z"
    }
   },
   "outputs": [
    {
     "name": "stdout",
     "output_type": "stream",
     "text": [
      "Detected OS : Windows\n"
     ]
    },
    {
     "name": "stderr",
     "output_type": "stream",
     "text": [
      "C:\\Users\\KIEN\\AppData\\Local\\Temp\\ipykernel_21608\\3906248590.py:56: DeprecationWarning: executable_path has been deprecated, please pass in a Service object\n",
      "  self.browser = webdriver.Chrome(executable_path=executable, chrome_options=chrome_options)\n",
      "C:\\Users\\KIEN\\AppData\\Local\\Temp\\ipykernel_21608\\3906248590.py:56: DeprecationWarning: use options instead of chrome_options\n",
      "  self.browser = webdriver.Chrome(executable_path=executable, chrome_options=chrome_options)\n"
     ]
    },
    {
     "name": "stdout",
     "output_type": "stream",
     "text": [
      "Detected OS : Windows\n",
      "Detected OS : Windows\n",
      "Detected OS : Windows\n",
      "Detected OS : Windows\n"
     ]
    }
   ],
   "source": [
    "for page_number in range(1, 6):\n",
    "    collect = Collect_Xamvn_Info(no_gui=no_gui)\n",
    "    collect.thread_link_crawl(\"https://xamvn.vc/box/quan-con-so-say.146/\", page_number)\n",
    "    temp_df = collect.result\n",
    "    collect.browser.quit()\n",
    "    df = pd.concat([df, temp_df], ignore_index=True)"
   ]
  },
  {
   "cell_type": "code",
   "execution_count": null,
   "metadata": {},
   "outputs": [],
   "source": []
  },
  {
   "cell_type": "code",
   "execution_count": 28,
   "metadata": {
    "ExecuteTime": {
     "end_time": "2023-09-05T14:39:33.410722Z",
     "start_time": "2023-09-05T14:38:16.994812Z"
    }
   },
   "outputs": [
    {
     "name": "stdout",
     "output_type": "stream",
     "text": [
      "Detected OS : Windows\n"
     ]
    },
    {
     "name": "stderr",
     "output_type": "stream",
     "text": [
      "C:\\Users\\KIEN\\AppData\\Local\\Temp\\ipykernel_21608\\3906248590.py:56: DeprecationWarning: executable_path has been deprecated, please pass in a Service object\n",
      "  self.browser = webdriver.Chrome(executable_path=executable, chrome_options=chrome_options)\n",
      "C:\\Users\\KIEN\\AppData\\Local\\Temp\\ipykernel_21608\\3906248590.py:56: DeprecationWarning: use options instead of chrome_options\n",
      "  self.browser = webdriver.Chrome(executable_path=executable, chrome_options=chrome_options)\n"
     ]
    },
    {
     "name": "stdout",
     "output_type": "stream",
     "text": [
      "Detected OS : Windows\n",
      "Detected OS : Windows\n",
      "Detected OS : Windows\n",
      "Detected OS : Windows\n"
     ]
    }
   ],
   "source": [
    "df2 = pd.DataFrame({'url': [], 'name': [], 'reply_num': [], 'view_num': []})\n",
    "no_gui = False\n",
    "\n",
    "for page_number in range(1, 6):\n",
    "    collect = Collect_Xamvn_Info(no_gui=no_gui)\n",
    "    collect.thread_link_crawl(\"https://xamvn.vc/whats-new/posts/\", page_number)\n",
    "    temp_df = collect.result\n",
    "    collect.browser.quit()\n",
    "    df2 = pd.concat([df2, temp_df], ignore_index=True)"
   ]
  },
  {
   "cell_type": "markdown",
   "metadata": {},
   "source": [
    "# Xuất file csv"
   ]
  },
  {
   "cell_type": "code",
   "execution_count": 31,
   "metadata": {
    "ExecuteTime": {
     "end_time": "2023-09-05T14:40:52.030555Z",
     "start_time": "2023-09-05T14:40:52.013558Z"
    }
   },
   "outputs": [],
   "source": [
    "df.to_csv(\"mại dâm.csv\")"
   ]
  },
  {
   "cell_type": "code",
   "execution_count": 32,
   "metadata": {
    "ExecuteTime": {
     "end_time": "2023-09-05T14:41:02.279148Z",
     "start_time": "2023-09-05T14:41:02.272140Z"
    }
   },
   "outputs": [],
   "source": [
    "df2.to_csv(\"tổng hợp.csv\")"
   ]
  },
  {
   "cell_type": "code",
   "execution_count": null,
   "metadata": {},
   "outputs": [],
   "source": []
  }
 ],
 "metadata": {
  "kernelspec": {
   "display_name": "Python 3 (ipykernel)",
   "language": "python",
   "name": "python3"
  },
  "language_info": {
   "codemirror_mode": {
    "name": "ipython",
    "version": 3
   },
   "file_extension": ".py",
   "mimetype": "text/x-python",
   "name": "python",
   "nbconvert_exporter": "python",
   "pygments_lexer": "ipython3",
   "version": "3.10.12"
  },
  "varInspector": {
   "cols": {
    "lenName": 16,
    "lenType": 16,
    "lenVar": 40
   },
   "kernels_config": {
    "python": {
     "delete_cmd_postfix": "",
     "delete_cmd_prefix": "del ",
     "library": "var_list.py",
     "varRefreshCmd": "print(var_dic_list())"
    },
    "r": {
     "delete_cmd_postfix": ") ",
     "delete_cmd_prefix": "rm(",
     "library": "var_list.r",
     "varRefreshCmd": "cat(var_dic_list()) "
    }
   },
   "types_to_exclude": [
    "module",
    "function",
    "builtin_function_or_method",
    "instance",
    "_Feature"
   ],
   "window_display": false
  }
 },
 "nbformat": 4,
 "nbformat_minor": 2
}
